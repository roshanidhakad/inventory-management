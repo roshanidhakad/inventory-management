{
  "nbformat": 4,
  "nbformat_minor": 0,
  "metadata": {
    "colab": {
      "name": "Untitled0.ipynb",
      "provenance": [],
      "collapsed_sections": []
    },
    "kernelspec": {
      "name": "python3",
      "display_name": "Python 3"
    },
    "language_info": {
      "name": "python"
    }
  },
  "cells": [
    {
      "cell_type": "code",
      "metadata": {
        "id": "vq0HIri3fyuP"
      },
      "source": [
        "dct = { 1 : {'name' : 'rosh', \"price\": 22 , \"qn\": 2, \"billi\": 1 },\n",
        "       2 : {'name' : 'mann', \"price\": 32 , \"qn\": 2, \"billi\": 2 },\n",
        "       3 : {'name' : 'jyoti', \"price\": 12 , \"qn\": 2, \"billi\": 3 }}"
      ],
      "execution_count": 1,
      "outputs": []
    },
    {
      "cell_type": "code",
      "metadata": {
        "id": "oMM39RG7f5Oj"
      },
      "source": [
        "dct[1]['qn'] = dct[1]['qn'] - 5"
      ],
      "execution_count": 2,
      "outputs": []
    },
    {
      "cell_type": "code",
      "metadata": {
        "colab": {
          "base_uri": "https://localhost:8080/"
        },
        "id": "5NqVJBW1f6Vl",
        "outputId": "69d3357d-4db8-47c1-eb13-51075431cfc7"
      },
      "source": [
        "dct"
      ],
      "execution_count": 3,
      "outputs": [
        {
          "output_type": "execute_result",
          "data": {
            "text/plain": [
              "{1: {'billi': 1, 'name': 'rosh', 'price': 22, 'qn': -3},\n",
              " 2: {'billi': 2, 'name': 'mann', 'price': 32, 'qn': 2},\n",
              " 3: {'billi': 3, 'name': 'jyoti', 'price': 12, 'qn': 2}}"
            ]
          },
          "metadata": {},
          "execution_count": 3
        }
      ]
    },
    {
      "cell_type": "code",
      "metadata": {
        "colab": {
          "base_uri": "https://localhost:8080/"
        },
        "id": "WLacpS5Ef9T7",
        "outputId": "c9b3e58f-e670-48e6-f99c-6a602c731f4a"
      },
      "source": [
        "if (1 in dct.keys()):\n",
        "  print(\"Prod Exist\")\n",
        "\n",
        "  dct[1]['qn'] = dct[1]['qn'] + 50\n",
        "\n",
        "else:\n",
        "  print('dosnt exist')\n",
        "\n",
        "\n",
        "  dct[1] =  {'billi': 1, 'name': 'rosh', 'price': 22, 'qn': 1}\n",
        "\n",
        "  \n",
        "  print(\"New product added to inventory\")"
      ],
      "execution_count": 4,
      "outputs": [
        {
          "output_type": "stream",
          "name": "stdout",
          "text": [
            "Prod Exist\n"
          ]
        }
      ]
    },
    {
      "cell_type": "code",
      "metadata": {
        "colab": {
          "base_uri": "https://localhost:8080/"
        },
        "id": "GcEQi7O3gCWA",
        "outputId": "5b8e6abe-9674-4bf1-be3a-1ab04ebd6dd2"
      },
      "source": [
        "dct"
      ],
      "execution_count": 5,
      "outputs": [
        {
          "output_type": "execute_result",
          "data": {
            "text/plain": [
              "{1: {'billi': 1, 'name': 'rosh', 'price': 22, 'qn': 47},\n",
              " 2: {'billi': 2, 'name': 'mann', 'price': 32, 'qn': 2},\n",
              " 3: {'billi': 3, 'name': 'jyoti', 'price': 12, 'qn': 2}}"
            ]
          },
          "metadata": {},
          "execution_count": 5
        }
      ]
    },
    {
      "cell_type": "code",
      "metadata": {
        "id": "83BdLi5sgEDD"
      },
      "source": [
        "import time\n",
        "\n",
        "t = time.ctime()"
      ],
      "execution_count": 6,
      "outputs": []
    },
    {
      "cell_type": "code",
      "metadata": {
        "colab": {
          "base_uri": "https://localhost:8080/",
          "height": 35
        },
        "id": "ySwJvOqGgHlv",
        "outputId": "70959d74-b513-4c2a-f88f-a2fbcd8253ae"
      },
      "source": [
        "t"
      ],
      "execution_count": 7,
      "outputs": [
        {
          "output_type": "execute_result",
          "data": {
            "application/vnd.google.colaboratory.intrinsic+json": {
              "type": "string"
            },
            "text/plain": [
              "'Mon Sep  6 14:26:05 2021'"
            ]
          },
          "metadata": {},
          "execution_count": 7
        }
      ]
    },
    {
      "cell_type": "code",
      "metadata": {
        "id": "GA8tp2ypgICm"
      },
      "source": [
        "dct[6] = {'billi': 123, 'name': 'ashish', 'price': 12, 'qn': 32, 'ex_date' : t}"
      ],
      "execution_count": 8,
      "outputs": []
    },
    {
      "cell_type": "code",
      "metadata": {
        "colab": {
          "base_uri": "https://localhost:8080/"
        },
        "id": "TVGd8mArgMDc",
        "outputId": "a281f4ce-2443-416b-9e76-0c65629f623e"
      },
      "source": [
        "dct"
      ],
      "execution_count": 9,
      "outputs": [
        {
          "output_type": "execute_result",
          "data": {
            "text/plain": [
              "{1: {'billi': 1, 'name': 'rosh', 'price': 22, 'qn': 47},\n",
              " 2: {'billi': 2, 'name': 'mann', 'price': 32, 'qn': 2},\n",
              " 3: {'billi': 3, 'name': 'jyoti', 'price': 12, 'qn': 2},\n",
              " 6: {'billi': 123,\n",
              "  'ex_date': 'Mon Sep  6 14:26:05 2021',\n",
              "  'name': 'ashish',\n",
              "  'price': 12,\n",
              "  'qn': 32}}"
            ]
          },
          "metadata": {},
          "execution_count": 9
        }
      ]
    },
    {
      "cell_type": "code",
      "metadata": {
        "colab": {
          "base_uri": "https://localhost:8080/"
        },
        "id": "mM8ZNsuggNAX",
        "outputId": "9e9a9d08-7c02-4d5b-a9e6-905bd711d53f"
      },
      "source": [
        "'1' in dct.keys()"
      ],
      "execution_count": 10,
      "outputs": [
        {
          "output_type": "execute_result",
          "data": {
            "text/plain": [
              "False"
            ]
          },
          "metadata": {},
          "execution_count": 10
        }
      ]
    },
    {
      "cell_type": "code",
      "metadata": {
        "colab": {
          "base_uri": "https://localhost:8080/"
        },
        "id": "vNyah6hngRnd",
        "outputId": "111cde3b-14e3-47d2-b212-bf6dca487543"
      },
      "source": [
        "dct"
      ],
      "execution_count": 11,
      "outputs": [
        {
          "output_type": "execute_result",
          "data": {
            "text/plain": [
              "{1: {'billi': 1, 'name': 'rosh', 'price': 22, 'qn': 47},\n",
              " 2: {'billi': 2, 'name': 'mann', 'price': 32, 'qn': 2},\n",
              " 3: {'billi': 3, 'name': 'jyoti', 'price': 12, 'qn': 2},\n",
              " 6: {'billi': 123,\n",
              "  'ex_date': 'Mon Sep  6 14:26:05 2021',\n",
              "  'name': 'ashish',\n",
              "  'price': 12,\n",
              "  'qn': 32}}"
            ]
          },
          "metadata": {},
          "execution_count": 11
        }
      ]
    },
    {
      "cell_type": "code",
      "metadata": {
        "colab": {
          "base_uri": "https://localhost:8080/",
          "height": 166
        },
        "id": "lwjL5T-ZgT4r",
        "outputId": "bccb4edc-ad5b-4d54-a28c-2e6cdb6ba802"
      },
      "source": [
        "dct = {1: {'prod_id': ui_prod, 'name': ['cake','coffee','candy'], 'price': [300,50,5 ], 'qn': ui_qn}}"
      ],
      "execution_count": 12,
      "outputs": [
        {
          "output_type": "error",
          "ename": "NameError",
          "evalue": "ignored",
          "traceback": [
            "\u001b[0;31m---------------------------------------------------------------------------\u001b[0m",
            "\u001b[0;31mNameError\u001b[0m                                 Traceback (most recent call last)",
            "\u001b[0;32m<ipython-input-12-3fe933889781>\u001b[0m in \u001b[0;36m<module>\u001b[0;34m()\u001b[0m\n\u001b[0;32m----> 1\u001b[0;31m \u001b[0mdct\u001b[0m \u001b[0;34m=\u001b[0m \u001b[0;34m{\u001b[0m\u001b[0;36m1\u001b[0m\u001b[0;34m:\u001b[0m \u001b[0;34m{\u001b[0m\u001b[0;34m'prod_id'\u001b[0m\u001b[0;34m:\u001b[0m \u001b[0mui_prod\u001b[0m\u001b[0;34m,\u001b[0m \u001b[0;34m'name'\u001b[0m\u001b[0;34m:\u001b[0m \u001b[0;34m[\u001b[0m\u001b[0;34m'cake'\u001b[0m\u001b[0;34m,\u001b[0m\u001b[0;34m'coffee'\u001b[0m\u001b[0;34m,\u001b[0m\u001b[0;34m'candy'\u001b[0m\u001b[0;34m]\u001b[0m\u001b[0;34m,\u001b[0m \u001b[0;34m'price'\u001b[0m\u001b[0;34m:\u001b[0m \u001b[0;34m[\u001b[0m\u001b[0;36m300\u001b[0m\u001b[0;34m,\u001b[0m\u001b[0;36m50\u001b[0m\u001b[0;34m,\u001b[0m\u001b[0;36m5\u001b[0m \u001b[0;34m]\u001b[0m\u001b[0;34m,\u001b[0m \u001b[0;34m'qn'\u001b[0m\u001b[0;34m:\u001b[0m \u001b[0mui_qn\u001b[0m\u001b[0;34m}\u001b[0m\u001b[0;34m}\u001b[0m\u001b[0;34m\u001b[0m\u001b[0;34m\u001b[0m\u001b[0m\n\u001b[0m",
            "\u001b[0;31mNameError\u001b[0m: name 'ui_prod' is not defined"
          ]
        }
      ]
    },
    {
      "cell_type": "code",
      "metadata": {
        "colab": {
          "base_uri": "https://localhost:8080/",
          "height": 166
        },
        "id": "AF168pHzgZuf",
        "outputId": "db262667-31fc-47b4-8dff-2f4073c11fff"
      },
      "source": [
        "dct[1]['prod_id']"
      ],
      "execution_count": 13,
      "outputs": [
        {
          "output_type": "error",
          "ename": "KeyError",
          "evalue": "ignored",
          "traceback": [
            "\u001b[0;31m---------------------------------------------------------------------------\u001b[0m",
            "\u001b[0;31mKeyError\u001b[0m                                  Traceback (most recent call last)",
            "\u001b[0;32m<ipython-input-13-30d36e44a270>\u001b[0m in \u001b[0;36m<module>\u001b[0;34m()\u001b[0m\n\u001b[0;32m----> 1\u001b[0;31m \u001b[0mdct\u001b[0m\u001b[0;34m[\u001b[0m\u001b[0;36m1\u001b[0m\u001b[0;34m]\u001b[0m\u001b[0;34m[\u001b[0m\u001b[0;34m'prod_id'\u001b[0m\u001b[0;34m]\u001b[0m\u001b[0;34m\u001b[0m\u001b[0;34m\u001b[0m\u001b[0m\n\u001b[0m",
            "\u001b[0;31mKeyError\u001b[0m: 'prod_id'"
          ]
        }
      ]
    },
    {
      "cell_type": "code",
      "metadata": {
        "id": "XExwj1h7glPA"
      },
      "source": [
        "ui_prod = []\n",
        "ui_qn = []\n",
        "\n",
        "for i in range(100):\n",
        "  ui_prod.append(input(\"Enter prod ID: \"))\n",
        "  ui_qn.append(input(\"Enter prod QN: \"))\n",
        "\n",
        "  op = input(\"Y/N\")\n",
        "\n",
        "  if(op == \"N\"):\n",
        "    break"
      ],
      "execution_count": null,
      "outputs": []
    },
    {
      "cell_type": "code",
      "metadata": {
        "id": "MHA_i8MGgpgV"
      },
      "source": [
        "ui_prod"
      ],
      "execution_count": null,
      "outputs": []
    },
    {
      "cell_type": "code",
      "metadata": {
        "id": "QyIXdwNjgs_i"
      },
      "source": [
        "data = {'record': { 1 : {'prod_id': ui_prod, 'name': ['cake','coffee','candy'], 'price': [300,50,5 ], 'qn': ui_qn}},\n",
        "        \n",
        "\n",
        "        'transection' : {'prod_id': ui_prod, 'name': ['cake','coffee','candy'], 'price': [300,50,5 ], 'qn': ui_qn}}"
      ],
      "execution_count": null,
      "outputs": []
    },
    {
      "cell_type": "code",
      "metadata": {
        "id": "FDRE4NXhgvqL"
      },
      "source": [
        "data['record']"
      ],
      "execution_count": null,
      "outputs": []
    },
    {
      "cell_type": "code",
      "metadata": {
        "id": "2Ts4wwdNgyfU"
      },
      "source": [
        "data"
      ],
      "execution_count": null,
      "outputs": []
    },
    {
      "cell_type": "code",
      "metadata": {
        "id": "7qwTe1SQg0Zn"
      },
      "source": [
        ""
      ],
      "execution_count": null,
      "outputs": []
    }
  ]
}
